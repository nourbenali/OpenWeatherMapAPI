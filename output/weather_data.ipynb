{
 "cells": [
  {
   "cell_type": "code",
   "execution_count": 1,
   "id": "2c70478c",
   "metadata": {},
   "outputs": [],
   "source": [
    "import pandas as pd\n",
    "\n",
    "import matplotlib.pyplot as plt\n",
    "import matplotlib \n",
    "%matplotlib notebook"
   ]
  },
  {
   "cell_type": "code",
   "execution_count": 2,
   "id": "2a8c8cfb",
   "metadata": {},
   "outputs": [],
   "source": [
    "column_names = [\"City\", \"Temperature\", \"Humidity\", \"Pressure\", \"windSpeed\", \"Clouds\"]\n",
    "df = pd.read_csv(\"weather_data.csv\", header=None, names=column_names)"
   ]
  },
  {
   "cell_type": "code",
   "execution_count": 3,
   "id": "1c6c7036",
   "metadata": {
    "scrolled": true
   },
   "outputs": [
    {
     "data": {
      "text/html": [
       "<div>\n",
       "<style scoped>\n",
       "    .dataframe tbody tr th:only-of-type {\n",
       "        vertical-align: middle;\n",
       "    }\n",
       "\n",
       "    .dataframe tbody tr th {\n",
       "        vertical-align: top;\n",
       "    }\n",
       "\n",
       "    .dataframe thead th {\n",
       "        text-align: right;\n",
       "    }\n",
       "</style>\n",
       "<table border=\"1\" class=\"dataframe\">\n",
       "  <thead>\n",
       "    <tr style=\"text-align: right;\">\n",
       "      <th></th>\n",
       "      <th>City</th>\n",
       "      <th>Temperature</th>\n",
       "      <th>Humidity</th>\n",
       "      <th>Pressure</th>\n",
       "      <th>windSpeed</th>\n",
       "      <th>Clouds</th>\n",
       "    </tr>\n",
       "  </thead>\n",
       "  <tbody>\n",
       "    <tr>\n",
       "      <th>0</th>\n",
       "      <td>London</td>\n",
       "      <td>11.49</td>\n",
       "      <td>87.0</td>\n",
       "      <td>991.0</td>\n",
       "      <td>7.72</td>\n",
       "      <td>75.0</td>\n",
       "    </tr>\n",
       "    <tr>\n",
       "      <th>1</th>\n",
       "      <td>New York</td>\n",
       "      <td>6.67</td>\n",
       "      <td>71.0</td>\n",
       "      <td>1006.0</td>\n",
       "      <td>5.36</td>\n",
       "      <td>99.0</td>\n",
       "    </tr>\n",
       "    <tr>\n",
       "      <th>2</th>\n",
       "      <td>Paris</td>\n",
       "      <td>9.87</td>\n",
       "      <td>85.0</td>\n",
       "      <td>1005.0</td>\n",
       "      <td>8.75</td>\n",
       "      <td>100.0</td>\n",
       "    </tr>\n",
       "    <tr>\n",
       "      <th>3</th>\n",
       "      <td>Sydney</td>\n",
       "      <td>19.05</td>\n",
       "      <td>72.0</td>\n",
       "      <td>1021.0</td>\n",
       "      <td>0.89</td>\n",
       "      <td>100.0</td>\n",
       "    </tr>\n",
       "    <tr>\n",
       "      <th>4</th>\n",
       "      <td>Tokyo</td>\n",
       "      <td>7.05</td>\n",
       "      <td>81.0</td>\n",
       "      <td>1009.0</td>\n",
       "      <td>2.06</td>\n",
       "      <td>100.0</td>\n",
       "    </tr>\n",
       "  </tbody>\n",
       "</table>\n",
       "</div>"
      ],
      "text/plain": [
       "       City  Temperature  Humidity  Pressure  windSpeed  Clouds\n",
       "0    London        11.49      87.0     991.0       7.72    75.0\n",
       "1  New York         6.67      71.0    1006.0       5.36    99.0\n",
       "2     Paris         9.87      85.0    1005.0       8.75   100.0\n",
       "3    Sydney        19.05      72.0    1021.0       0.89   100.0\n",
       "4     Tokyo         7.05      81.0    1009.0       2.06   100.0"
      ]
     },
     "execution_count": 3,
     "metadata": {},
     "output_type": "execute_result"
    }
   ],
   "source": [
    "df.head()"
   ]
  },
  {
   "cell_type": "code",
   "execution_count": 4,
   "id": "d02eed43",
   "metadata": {},
   "outputs": [
    {
     "data": {
      "text/plain": [
       "(10980, 6)"
      ]
     },
     "execution_count": 4,
     "metadata": {},
     "output_type": "execute_result"
    }
   ],
   "source": [
    "df.shape"
   ]
  },
  {
   "cell_type": "code",
   "execution_count": 5,
   "id": "b73c637a",
   "metadata": {},
   "outputs": [
    {
     "data": {
      "text/plain": [
       "array([11.49,  6.67,  9.87, 19.05,  7.05, 21.86,  0.53, 11.56, 19.19,\n",
       "        7.03, 22.83,  0.66,  6.68,  9.85, 11.6 , 19.29,  6.88, 21.09,\n",
       "        9.82, 11.71, 19.38,  6.81,  0.62,  6.6 ,  9.84, 11.81, 19.58,\n",
       "        6.71,  6.49,  9.79, 11.84, 19.62,  6.63,  6.45,  9.73, 11.89,\n",
       "       19.79,  6.33,  9.66,  6.32, 19.69,  6.59, 11.88,  6.64,  6.3 ,\n",
       "       19.73,  9.7 ,  0.59, 11.67,  6.74,  6.28, 19.74,  0.3 , 11.42,\n",
       "        6.76,  6.19,  9.72, 19.99, 10.46,  6.04,  9.74, 20.09, 10.44,\n",
       "        6.96,  5.97, 20.4 , 10.08,  7.19,  5.87,  9.55,  7.74,  5.79,\n",
       "       20.53,  9.38,  7.8 ,  5.72, 20.63,  9.25,  8.05,  5.53, 20.59,\n",
       "        0.64,  8.44,  8.13,  5.48,  9.71, 20.61,  8.39,  8.46,  5.33,\n",
       "       20.68,  8.28,  8.5 ,  8.11,  5.26,  8.88, 20.64, 20.55, 20.32,\n",
       "        5.19,  8.06,  9.14,  0.85, 20.35,  8.04,  5.12,  9.96,  9.35,\n",
       "       20.37,  8.01,  4.97,  9.99,  9.24,  4.92,  7.97,  9.58,  0.88,\n",
       "       20.57,  4.7 , 10.03, 10.02,  8.02,  4.61,  9.98, 22.6 ,  4.54,\n",
       "        9.97, 10.7 , 20.81, 19.77,  4.45, 10.28, 10.71, 20.8 ,  4.32,\n",
       "       10.4 , 11.03, 20.71,  8.09,  4.26, 10.62, 11.24, 20.75,  4.15,\n",
       "        8.14, 10.75,  1.03, 20.77,  8.27,  4.05, 10.8 , 11.57, 20.69,\n",
       "       20.54,  8.33,  4.  , 10.82,  1.  ,  8.3 ,  4.03, 11.79,  8.37,\n",
       "        4.02, 10.45, 20.67,  9.9 , 11.97, 20.82,  8.34,  9.8 ,  3.96,\n",
       "       12.17, 20.88,  3.94,  9.52, 20.83, 19.16, 12.33,  8.32,  3.99,\n",
       "       20.9 , 22.54,  8.2 ,  9.15, 20.78, 12.58,  9.1 ,  4.1 , 20.7 ,\n",
       "       12.68,  0.93,  7.79,  9.06, 12.93,  0.99,  7.68,  9.  ,  4.12,\n",
       "       20.76,  7.45,  9.02,  4.16, 20.74, 24.  , 12.98,  7.1 ,  9.05,\n",
       "        4.24, 20.73, 12.8 ,  8.97,  4.29, 12.77,  6.91,  8.93,  4.34,\n",
       "       12.88,  6.69,  9.04,  4.37, 20.79,  6.46,  9.01,  4.46, 12.69,\n",
       "        6.35,  6.24,  4.58, 12.71, 23.16,  6.21,  4.6 , 26.  ,  8.9 ,\n",
       "       12.59,  8.86,  6.14,  4.62,  8.85, 12.47,  6.17,  1.32, 12.39,\n",
       "       20.72,  8.42, 12.31,  6.12,  4.52, 12.04,  1.41,  4.44, 20.6 ,\n",
       "       12.02,  1.36, 20.65, 12.16,  1.24,  8.36,  6.4 ,  4.4 , 20.29,\n",
       "       12.12,  6.44,  4.41, 11.94,  1.12,  6.56, 20.13, 11.8 ,  4.35,\n",
       "        8.38, 20.08, 11.78,  6.73, 19.88, 24.85,  4.36,  8.43,  6.85,\n",
       "       19.89,  8.55, 11.5 ,  7.06, 19.81,  8.58, 11.43,  7.4 ,  8.99,\n",
       "       11.39,  1.06, 19.71,  9.16, 11.31,  7.71, 19.68, 24.94,  4.28,\n",
       "       11.02,  1.22,  7.92, 19.5 , 10.81,  7.96, 19.47,  9.62, 10.67,\n",
       "        8.08, 19.52,  4.17,  4.19, 10.78,  1.08,  9.95, 11.14,  4.04,\n",
       "        8.18, 19.36, 10.  , 11.08,  4.01, 26.77, 10.2 , 11.1 ,  1.1 ,\n",
       "       10.27, 19.55, 11.05,  1.05,  3.92,  8.49, 10.53, 19.51, 10.94,\n",
       "        0.73,  3.88,  8.52, 10.85, 19.8 ,  0.34,  3.84,  8.62, 11.04,\n",
       "       19.45, 10.65,  0.29,  8.68,  3.85, 11.06, 10.74, 24.69, 10.52,\n",
       "       19.56,  8.82,  3.79, -0.34,  9.07,  3.72, -0.08, 11.07, 10.41,\n",
       "        9.08,  3.67, -0.46, 19.66, 10.29,  9.28, -0.57, 10.25,  3.66,\n",
       "        9.39, 11.01, 10.23,  9.47, 25.77, 10.01, -1.64,  3.81,  9.81,\n",
       "        9.77, -2.21, 19.93, 10.99,  9.76, -2.04,  4.11, 10.96, 19.85,\n",
       "       -2.1 ,  4.25, 10.79, 19.92, 10.04, -2.88,  4.38, 19.97, 10.09,\n",
       "        9.42,  4.67, 10.91, 19.41, 24.44, 10.18,  9.4 , -3.21,  4.8 ,\n",
       "       10.38, 19.24, -3.41,  4.86, 10.35, 19.33, -3.51, 10.37,  4.94,\n",
       "       19.23, 10.1 , -4.02,  5.03, 10.36, 18.91,  9.34, -4.06,  5.08,\n",
       "       10.32, 18.63, -4.11,  5.31, 18.66, 24.35, -4.12, 18.77, 10.21,\n",
       "        9.63,  9.33,  5.37, -4.86, 18.83,  9.29,  9.3 ,  5.4 , -4.92,\n",
       "       18.81, -5.02,  5.43, 18.67,  8.89, -5.5 , 18.79, 10.07,  8.66,\n",
       "        9.32, -5.36,  5.46,  9.53, -5.44, 25.  , -6.05,  5.51,  7.9 ,\n",
       "       -6.25,  5.49, 18.64,  7.95,  5.7 , 18.54, 24.54, -9.14, -9.31,\n",
       "       18.48, 23.54])"
      ]
     },
     "execution_count": 5,
     "metadata": {},
     "output_type": "execute_result"
    }
   ],
   "source": [
    "df['Temperature'].unique()"
   ]
  },
  {
   "cell_type": "code",
   "execution_count": 6,
   "id": "fbfa73da",
   "metadata": {},
   "outputs": [
    {
     "data": {
      "text/plain": [
       "array([87., 71., 85., 72., 81., 73., 99., 86., 82., 70., 78., 84., 80.,\n",
       "       83., 69., 68., 67., 66., 65., 89., 64., 90., 63., 88., 91., 79.,\n",
       "       77., 92., 75., 74., 98., 62., 97., 61., 60., 59., 58., 76., 57.,\n",
       "       55., 53.])"
      ]
     },
     "execution_count": 6,
     "metadata": {},
     "output_type": "execute_result"
    }
   ],
   "source": [
    "df['Humidity'].unique()"
   ]
  },
  {
   "cell_type": "code",
   "execution_count": 7,
   "id": "a51bf6bd",
   "metadata": {},
   "outputs": [
    {
     "data": {
      "text/plain": [
       "array([ 991., 1006., 1005., 1021., 1009., 1016.,  997., 1007.,  990.,\n",
       "       1020., 1004.,  989., 1003.,  988., 1002., 1008., 1001.,  987.,\n",
       "       1000.,  999.,  986., 1017.,  985.,  998., 1010.,  984., 1018.,\n",
       "       1011., 1012., 1019., 1013., 1022., 1023., 1014., 1015.])"
      ]
     },
     "execution_count": 7,
     "metadata": {},
     "output_type": "execute_result"
    }
   ],
   "source": [
    "df['Pressure'].unique()"
   ]
  },
  {
   "cell_type": "code",
   "execution_count": 8,
   "id": "4ece60af",
   "metadata": {},
   "outputs": [
    {
     "data": {
      "text/plain": [
       "array(['London', 'New York', 'Paris', 'Sydney', 'Tokyo', 'Dubai',\n",
       "       'Moscow'], dtype=object)"
      ]
     },
     "execution_count": 8,
     "metadata": {},
     "output_type": "execute_result"
    }
   ],
   "source": [
    "df['City'].unique()"
   ]
  },
  {
   "cell_type": "code",
   "execution_count": 9,
   "id": "dffbb24f",
   "metadata": {},
   "outputs": [
    {
     "data": {
      "text/plain": [
       "array([ 75.,  99., 100.,   3.,   4.,   0.,  49.,   1.,  40.,   2.,  20.,\n",
       "         5.,   6.,   9.,  17.,  15.,   7.,  14.,   8.,  57.,  96.,  88.,\n",
       "        28.])"
      ]
     },
     "execution_count": 9,
     "metadata": {},
     "output_type": "execute_result"
    }
   ],
   "source": [
    "df['Clouds'].unique()"
   ]
  },
  {
   "cell_type": "code",
   "execution_count": 10,
   "id": "ec60f846",
   "metadata": {},
   "outputs": [],
   "source": [
    "# Set the backend to an appropriate one (e.g., TkAgg)\n",
    "%matplotlib notebook"
   ]
  },
  {
   "cell_type": "code",
   "execution_count": 7,
   "id": "959d5709",
   "metadata": {},
   "outputs": [],
   "source": [
    "import pandas as pd\n",
    "import matplotlib.pyplot as plt\n",
    "import matplotlib\n",
    "from matplotlib.animation import FuncAnimation\n",
    "\n",
    "# Switch the backend\n",
    "matplotlib.use('TkAgg')\n",
    "\n",
    "plt.style.use('fivethirtyeight')\n",
    "\n",
    "def plot_weather_data(city_name):\n",
    "    column_names = [\"City\", \"Temperature\", \"Humidity\", \"Pressure\", \"windSpeed\", \"Clouds\"]\n",
    "    df = pd.read_csv(\"weather_data.csv\", header=None, names=column_names)\n",
    "\n",
    "    # Filter data for the specified city\n",
    "    city_data = df[df['City'] == city_name]\n",
    "\n",
    "    x = city_data.index  # Use index for x-axis, assuming it's a time-based index\n",
    "    y1 = city_data[\"Temperature\"]\n",
    "    y2 = city_data[\"Humidity\"]\n",
    "    y3 = city_data[\"Pressure\"]\n",
    "    y4 = city_data[\"windSpeed\"]\n",
    "\n",
    "    # Clear current axes\n",
    "    plt.clf()\n",
    "\n",
    "    # Plotting the Temperature\n",
    "    plt.subplot(2, 2, 1)\n",
    "    plt.plot(x, y1, label='Temperature', marker='o')\n",
    "    plt.legend(loc='upper left')\n",
    "    plt.title(f'Real-Time Temperature in {city_name}')\n",
    "    plt.xlabel('Time')\n",
    "    plt.ylabel('Temperature (°C)')\n",
    "\n",
    "    # Plotting the Humidity\n",
    "    plt.subplot(2, 2, 2)\n",
    "    plt.plot(x, y2, label='Humidity', marker='o')\n",
    "    plt.legend(loc='upper left')\n",
    "    plt.title(f'Real-Time Humidity in {city_name}')\n",
    "    plt.xlabel('Time')\n",
    "    plt.ylabel('Humidity (%)')\n",
    "\n",
    "    # Plotting the Pressure\n",
    "    plt.subplot(2, 2, 3)\n",
    "    plt.plot(x, y3, label='Pressure', marker='o')\n",
    "    plt.legend(loc='upper left')\n",
    "    plt.title(f'Real-Time Pressure in {city_name}')\n",
    "    plt.xlabel('Time')\n",
    "    plt.ylabel('Pressure (hPa)')\n",
    "\n",
    "    # Plotting the Wind Speed\n",
    "    plt.subplot(2, 2, 4)\n",
    "    plt.plot(x, y4, label='Wind Speed', marker='o')\n",
    "    plt.legend(loc='upper left')\n",
    "    plt.title(f'Real-Time Wind Speed in {city_name}')\n",
    "    plt.xlabel('Time')\n",
    "    plt.ylabel('Wind Speed (m/s)')\n",
    "\n",
    "    plt.tight_layout()\n"
   ]
  },
  {
   "cell_type": "code",
   "execution_count": 8,
   "id": "ded235a8",
   "metadata": {},
   "outputs": [],
   "source": [
    "cities_to_plot = ['London', 'New York', 'Paris', 'Sydney', 'Tokyo', 'Dubai', 'Moscow']\n",
    "# Iterate through cities and plot weather data in different windows\n",
    "for city in cities_to_plot: \n",
    "    plot_weather_data(city)\n",
    "    plt.show()"
   ]
  },
  {
   "cell_type": "code",
   "execution_count": 9,
   "id": "f6e46976",
   "metadata": {},
   "outputs": [],
   "source": [
    "import pandas as pd\n",
    "import matplotlib.pyplot as plt\n",
    "import matplotlib\n",
    "from matplotlib.animation import FuncAnimation\n",
    "\n",
    "# Switch the backend\n",
    "matplotlib.use('TkAgg')\n",
    "\n",
    "plt.style.use('fivethirtyeight')\n",
    "\n",
    "def plot_weather_variable_for_all_cities(variable_name):\n",
    "    # Assuming you have a column_names list defined for your data\n",
    "    column_names = [\"City\", \"Temperature\", \"Humidity\", \"Pressure\", \"windSpeed\", \"Clouds\"]\n",
    "    df = pd.read_csv(\"weather_data.csv\", header=None, names=column_names)\n",
    "\n",
    "    # Clear current axes\n",
    "    plt.clf()\n",
    "\n",
    "    # Iterate through cities and plot each one with a different color\n",
    "    for city_name in df['City'].unique():\n",
    "        city_data = df[df['City'] == city_name]\n",
    "        x = city_data.index  # Use index for x-axis, assuming it's a time-based index\n",
    "        y = city_data[variable_name]\n",
    "\n",
    "        # Plotting the line for each city and variable with tiny dots\n",
    "        city_colors = {'London': '#9b5fe0', 'New York': '#16a4d8', 'Paris': '#60dbe8',\n",
    "               'Sydney': '#8bd346', 'Tokyo': '#efdf48', 'Dubai': '#f9a52c', 'Moscow': '#d64e12'}\n",
    "        plt.plot(x, y, label=f'{city_name}', marker=',', markersize=0.2, linestyle='-', color=city_colors[city_name])\n",
    "\n",
    "    plt.legend(loc='upper left', fontsize='small')\n",
    "    plt.title(f'Real-Time {variable_name} in Different Cities')\n",
    "    plt.xlabel('Time')\n",
    "    plt.ylabel(f'{variable_name}')\n",
    "\n",
    "    # Show the plot\n",
    "    plt.show()\n",
    "\n",
    "# Example usage:\n",
    "variable_to_plot = 'Temperature'\n",
    "plot_weather_variable_for_all_cities(variable_to_plot)\n",
    "\n",
    "\n"
   ]
  },
  {
   "cell_type": "code",
   "execution_count": 10,
   "id": "f332c9e5",
   "metadata": {},
   "outputs": [],
   "source": [
    "variables_to_plot = ['Temperature', 'Humidity', 'Pressure', 'windSpeed']\n",
    "# Iterate through the variables and plot them\n",
    "for var in variables_to_plot: \n",
    "    plot_weather_variable_for_all_cities(var)\n",
    "    plt.show()"
   ]
  },
  {
   "cell_type": "code",
   "execution_count": 20,
   "id": "567129d9",
   "metadata": {},
   "outputs": [],
   "source": [
    "import pandas as pd\n",
    "import matplotlib.pyplot as plt\n",
    "import matplotlib\n",
    "from matplotlib.animation import FuncAnimation\n",
    "\n",
    "# Switch the backend\n",
    "matplotlib.use('TkAgg')\n",
    "\n",
    "plt.style.use('fivethirtyeight')\n",
    "\n",
    "def plot_weather_data(city_name):\n",
    "    column_names = [\"City\", \"Temperature\", \"Humidity\", \"Pressure\", \"windSpeed\", \"Clouds\"]\n",
    "    df = pd.read_csv(\"weather_data.csv\", header=None, names=column_names)\n",
    "\n",
    "    # Filter data for the specified city\n",
    "    city_data = df[df['City'] == city_name]\n",
    "\n",
    "    x = city_data.index  # Use index for x-axis, assuming it's a time-based index\n",
    "    y1 = city_data[\"Temperature\"]\n",
    "    y2 = city_data[\"Humidity\"]\n",
    "    y3 = city_data[\"Pressure\"]\n",
    "    y4 = city_data[\"windSpeed\"]\n",
    "\n",
    "    # Clear current axes\n",
    "    plt.clf()\n",
    "\n",
    "    # Create a 4x2 grid of subplots\n",
    "    plt.subplot(4, 2, 1)\n",
    "    plt.plot(x, y1, label='Temperature', marker='o')\n",
    "    plt.legend(loc='upper left')\n",
    "    plt.title(f'Real-Time Temperature in {city_name}')\n",
    "    plt.xlabel('Time')\n",
    "    plt.ylabel('Temperature (°C)')\n",
    "\n",
    "    plt.subplot(4, 2, 2)\n",
    "    plt.plot(x, y2, label='Humidity', marker='o')\n",
    "    plt.legend(loc='upper left')\n",
    "    plt.title(f'Real-Time Humidity in {city_name}')\n",
    "    plt.xlabel('Time')\n",
    "    plt.ylabel('Humidity (%)')\n",
    "\n",
    "    plt.subplot(4, 2, 3)\n",
    "    plt.plot(x, y3, label='Pressure', marker='o')\n",
    "    plt.legend(loc='upper left')\n",
    "    plt.title(f'Real-Time Pressure in {city_name}')\n",
    "    plt.xlabel('Time')\n",
    "    plt.ylabel('Pressure (hPa)')\n",
    "\n",
    "    plt.subplot(4, 2, 4)\n",
    "    plt.plot(x, y4, label='Wind Speed', marker='o')\n",
    "    plt.legend(loc='upper left')\n",
    "    plt.title(f'Real-Time Wind Speed in {city_name}')\n",
    "    plt.xlabel('Time')\n",
    "    plt.ylabel('Wind Speed (m/s)')\n",
    "\n",
    "    plt.tight_layout()\n",
    "\n",
    "# Example usage:\n",
    "city_to_plot = 'London'\n",
    "plot_weather_data(city_to_plot)"
   ]
  },
  {
   "cell_type": "code",
   "execution_count": 21,
   "id": "9696fdf2",
   "metadata": {},
   "outputs": [],
   "source": [
    "import pandas as pd\n",
    "import matplotlib.pyplot as plt\n",
    "import matplotlib\n",
    "from matplotlib.animation import FuncAnimation\n",
    "\n",
    "# Switch the backend\n",
    "matplotlib.use('TkAgg')\n",
    "\n",
    "plt.style.use('fivethirtyeight')\n",
    "\n",
    "def plot_weather_data(city_name):\n",
    "    column_names = [\"City\", \"Temperature\", \"Humidity\", \"Pressure\", \"windSpeed\", \"Clouds\"]\n",
    "    df = pd.read_csv(\"weather_data.csv\", header=None, names=column_names)\n",
    "\n",
    "    # Filter data for the specified city\n",
    "    city_data = df[df['City'] == city_name]\n",
    "\n",
    "    x = city_data.index  # Use index for x-axis, assuming it's a time-based index\n",
    "    y1 = city_data[\"Temperature\"]\n",
    "    y2 = city_data[\"Humidity\"]\n",
    "    y3 = city_data[\"Pressure\"]\n",
    "    y4 = city_data[\"windSpeed\"]\n",
    "\n",
    "    # Clear current axes\n",
    "    plt.clf()\n",
    "\n",
    "    # Plotting the Temperature\n",
    "    plt.subplot(2, 2, 1)\n",
    "    plt.plot(x, y1, label='Temperature', marker='o')\n",
    "    plt.legend(loc='upper left')\n",
    "    plt.title(f'Real-Time Temperature in {city_name}')\n",
    "    plt.xlabel('Time')\n",
    "    plt.ylabel('Temperature (°C)')\n",
    "\n",
    "    # Plotting the Humidity\n",
    "    plt.subplot(2, 2, 2)\n",
    "    plt.plot(x, y2, label='Humidity', marker='o')\n",
    "    plt.legend(loc='upper left')\n",
    "    plt.title(f'Real-Time Humidity in {city_name}')\n",
    "    plt.xlabel('Time')\n",
    "    plt.ylabel('Humidity (%)')\n",
    "\n",
    "    # Plotting the Pressure\n",
    "    plt.subplot(2, 2, 3)\n",
    "    plt.plot(x, y3, label='Pressure', marker='o')\n",
    "    plt.legend(loc='upper left')\n",
    "    plt.title(f'Real-Time Pressure in {city_name}')\n",
    "    plt.xlabel('Time')\n",
    "    plt.ylabel('Pressure (hPa)')\n",
    "\n",
    "    # Plotting the Wind Speed\n",
    "    plt.subplot(2, 2, 4)\n",
    "    plt.plot(x, y4, label='Wind Speed', marker='o')\n",
    "    plt.legend(loc='upper left')\n",
    "    plt.title(f'Real-Time Wind Speed in {city_name}')\n",
    "    plt.xlabel('Time')\n",
    "    plt.ylabel('Wind Speed (m/s)')\n",
    "\n",
    "    plt.tight_layout()"
   ]
  },
  {
   "cell_type": "code",
   "execution_count": 22,
   "id": "2e848121",
   "metadata": {},
   "outputs": [],
   "source": [
    "cities_to_plot = ['London', 'New York', 'Paris', 'Sydney', 'Tokyo', 'Dubai', 'Moscow']\n",
    "# Iterate through cities and plot weather data in different windows\n",
    "for city in cities_to_plot: \n",
    "    plot_weather_data(city)\n",
    "    plt.show()"
   ]
  }
 ],
 "metadata": {
  "kernelspec": {
   "display_name": "Python 3 (ipykernel)",
   "language": "python",
   "name": "python3"
  },
  "language_info": {
   "codemirror_mode": {
    "name": "ipython",
    "version": 3
   },
   "file_extension": ".py",
   "mimetype": "text/x-python",
   "name": "python",
   "nbconvert_exporter": "python",
   "pygments_lexer": "ipython3",
   "version": "3.12.0"
  }
 },
 "nbformat": 4,
 "nbformat_minor": 5
}
